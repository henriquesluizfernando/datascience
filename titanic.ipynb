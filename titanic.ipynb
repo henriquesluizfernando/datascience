{
  "nbformat": 4,
  "nbformat_minor": 0,
  "metadata": {
    "colab": {
      "name": "titanic.ipynb",
      "provenance": [],
      "collapsed_sections": [
        "x3AyvH2JMllo",
        "y1JSfyuBJGZj",
        "10SP8bD1VS4i"
      ],
      "toc_visible": true,
      "authorship_tag": "ABX9TyPm6aCPJhtxWFueZ4rbccu5",
      "include_colab_link": true
    },
    "kernelspec": {
      "name": "python3",
      "display_name": "Python 3"
    }
  },
  "cells": [
    {
      "cell_type": "markdown",
      "metadata": {
        "id": "view-in-github",
        "colab_type": "text"
      },
      "source": [
        "<a href=\"https://colab.research.google.com/github/henriquesluizfernando/datascience/blob/main/titanic.ipynb\" target=\"_parent\"><img src=\"https://colab.research.google.com/assets/colab-badge.svg\" alt=\"Open In Colab\"/></a>"
      ]
    },
    {
      "cell_type": "markdown",
      "metadata": {
        "id": "tPZV-E7vCMEo"
      },
      "source": [
        "## *Titanic*\n",
        " O Titanic foi construído para ser o maior, mais seguro e luxuoso navio. No dia 10 de abril de 1912, saiu do porto de Southampton, na Inglaterra, para sua viagem inaugural. No mesmo dia parou em Chesbourg, na França, e no dia seguinte. No dia seguinte, antes de partir para seu destino final, Nova York, fez mais uma parada em Queenstown, na Irlanda.\n",
        "\n",
        "<center><img src=\"data:image/jpeg;base64,/9j/4AAQSkZJRgABAQAAAQABAAD/2wCEAAkGBxMTEhUTEhMWFhUXGBgYGBgYGBgZGBUXGBcXFxUXFxcYHSggGBolGxcYITEhJSkrLi4uFx8zODMtNygtLisBCgoKDg0OGhAQGi0fHSUtLS0tLS0tLS0tLS0tLS0tLS0tLS0tLS0tLS0tLS0tLSstLS0tLS0tLS0tLS0tLS0tLf/AABEIAKwBJgMBIgACEQEDEQH/xAAcAAABBQEBAQAAAAAAAAAAAAAEAQIDBQYHAAj/xABIEAABAwIDBAgCBggEAwkAAAABAAIRAyEEEjEFQVFhBhMicYGRobEywQdCUtHh8BQjM2JykqLxFReC0lRjwhYkNENEU5Oys//EABgBAQEBAQEAAAAAAAAAAAAAAAABAgME/8QAIhEBAQEAAgICAwEBAQAAAAAAAAERAhIDITFBEzJRIkIE/9oADAMBAAIRAxEAPwDlcE2jySGQrFjmgD3Q1aCvQ8eoKYJsOZ8gSfQI/DVcsKHCMIe2N5j+a3zStdohWjwzmugGE7FYcjQSFQUqsGQVcNxUwZRgJiSQ6FNhsUGm6diqeYSNUE6mVRtNj7Qa4ta4gXQHSvDtZUPV6ESN6zdKqQZ4K6p4vrRLj2oi+gaFnrl1VJSfxRNLFluiAxFnGfwSB6qNJgtqRE7lb4faHWWLokR3rFNfzTMVtJ1ItjQ7/G6xZFkt9Rf7SwEGQZk90eCrn03N0uvY7aRGLNIElnZiYzQWg3PeUR14VlLMBuBSsrXulrGSh3rSDDVTuutCrTUSiumCwwwJnh2m94yZh/UfRCVBJtCmwuJAEnRj6bj3TlPyQbjkc5p+qS0+BhZ4/Na5fESVoAsEK1Edco3EcFtlG3emZ05wG5QoqZoUoKFD09tRAU16a94KhNRMPJA9z40UQqKN4KjLSijmvCSrUBCEDHJCx3AqGPVCoiV4ymlp4I1COK8mlp4JVFWTSCvOZzQ4Tza3zW2D6Loe08HA+RXnGHGNxPumvan4v43c3E+d0+x5mqOo1o5oCmJc1u9xAHjxXqVaRPgnoy5rTbOx9Matkwbndy7kDjazTUOTRVP6WW5SPtN/spqziC/+Mx4Fw08Qs7NxevrRbqg3pcBUacRSYZDXuymDcTYR4wqt1cqw2Fs013tfny9XUboJkyDv7lOd6zThx2h6GKkvaQDDiB3AkX8l5zhNhHHgl2pgTQq1BqMzjzMu5aaoTr1OF2HPjlGF6hxmAqV4FMTlmSTAAj8CmMqBXfRky6o3eWg+Rg+6nkucbV8f7QPtjZFSlWp1HhhmnTsC50EsEOJgRx+9RVXxpuMLW9I2fqaRO+nlPgS32hYavU7R4yseHleW635uOYKFQlIXII1eac167uCV7k0uUbnFRkoDsIZLm/apvHiBnb6tCdtGp+sc77Qa/wDnaH+5QmErZajCdA4T3Tf0U+Nou7PZccrcriASOw97Ne4BY+OTf/KPrAm62lR9WVJTEarbBr2QoSUVmCikHVFQgp4KR7G7imQgJpuEGddyU1UISml6Ah1ZNFVD5wlDwi4Lp1lM2rZBCo3mkdVChgh5Cb1gGiFNRNL0XBRqLyDL15RcFNTkazZ7uCccAYJ4LoxoRphLi3XHNrT/AEhI+iV7FUzDD+5Hk5w+QWap+zaYfUYCSIc0yNdeam2thOqc5v2XlugGmk8+aH2dIf8AnkrTpPBfUI+2138zSuNt/I6z9AWxqkVPD5hXPTBoFSrG+Hebh94VBsf9pHI/JaLpVSvP2qIPk1h+SzzueSLx/Ssktd9H7M3Xjkwjv7Q+5UWxtj1cQ5zGQ0sbmdnkAAxE23yFq+guzn0q7m1CAHtAJh8NIcLFxaA7WZaSI0Nwt+ay8LGPHL2lDdP8NGJf+80nxMO+SxwYul9PMA41SWtc4Na5rnNBgRTLZPASFjsB0dxFQ0c1GoG1TLXNDSSwQXuAnc2SAYmFnwXOPtrzTeXpUsstJ0PDTXA3ljvkjWfRxiRiurcCMP1kddLAXM4tYHEzHER7KWnsYYTH0gzOaZL2gviXdhwBloFu03dqr5efG8bN+nOS8bLf6sNt4bsMnTKR/U4lc9xdIh3gPYA+oK6/0iw7GUGVHtruBe5oFGm15ALfjOd7QADbX5rlO2MI9tQtIuyWuiLODn2PAwFx/wDNfuu/m9z0Bc3RKZWy2X9H9epgqlcseK+an1LMzA11NxaHudvBhxIBI0CzO1Nm1cO5rarcpc0PA5GfURdeucpXnvGz5QNamOai62EiiysHAhznNLby0jSdxBv5IIuTVnC2GuWqb0nDcHUw5pOOcvOcEZWmqA+I1kEkrJl6PmaBsNGebXvafQt81nn9Lx+w7q0qIuUa9K2wlzqGo66ZKQhCFBTsyjhOAVUrnJjinuYRqEwNUU0BOFM8E8DgpWuQ0xtEncnOwp4p4N7qVrpRNDnDHeU0UBxRFSVCVF0hwo+16LyjcF5F13DDdFm8NyDxvRcSQNYnwmFvqlPKJQWIxRIiJ9LXXH8ldPxRzbFbApNOWZINzMaAEgeaAGzqMEPaDF2w/wCqXDgbjW60W33iTGYSdztCsxXA3F8iYOscYunblWOslTP2bhQwlmVriNTnJEESACNYBVizFsdSNN2UtgNMBxJEZSIDZNo8pVKKkG737vqu3G+nEW8VOx//ADSIB+q/fAB8L+al/rUaHYWCw9AF1EmmXAT2aj5yukAtdO6dBvQm3MC81GOow+M5l1KrlA7HVtytF7Z5UODxhZIOIBMk9qRAnS456qww+1QAZr053EuaANDoRf8AFSxqVd0sdRz5nVQamVoyvaQbXBkiLw068e5I/HUc4FR7czQAGOkHNmMEOzFhEEcdItEITDY8aivS/dvSsN0GLo6hiiTPXUyItBpWtb881nGtAYyrSzu6x1QdYHElrhDs7piRUDTYm0n4pR+FoHq5w+Z4aG5Gl8tkFr2iGkNbaDZ28SimVXkmKrfq6Fm4DNEcSD/MpKhrz2asXmJaZkENHmR/KggoV8Y4zVpFgAN2up6byc73WtyUGAwtLEObUpPp1WNdGYEOylrWEXa8DNcacipcdgcS+nk694cCwtc2RJbAeHZCOy4ZtbC1rQqWh0dxtDs063xlx7L6oaCC4lzuzqW5RfUtCxz4Ss8pOXy1mKwFZ9NrWi8ZXS7shpmcokk7rHmFQYnoA1z31Krc2Z5e89ZBcTdxgNgE3sLI3ZmFxLMPlr1XurEGanXvABJEQ3gBPmgsZg8SXD/vRAJ+EvqOAaASdXDkmtrjC4CtTpMp08wY0AAdZoOwIkNBMCRfgOKG2jscOaXVMPTqOYCGlwa7K5zg1vxD7OUn+HuVTX6N130Q448wSe0BcggCxLiLZSR3ncjtpYBgp02OxDmNpteXQGw9z23e4kbhJHCd6aqo6S9GmFvVu6tgBDgafZiBlgg2Ml3LRZDbmw2U8Myo2ZJaMpiQHZjuPLnoVsDsSlBmtVcLsMxMHU2be7gJ5clG7Z1KtTbSBc5tN2UaayRLjy7XhGsrfHl/U7WSyOWnDovCU5pvb/F65CP/AMyr+rsZwJBFwSD4FDjCGkZI19w10e5Xp5/rseThy3ljNdQV7qTwWmw2yCQDH53ohmw3XhpmOC3sYtZDqDwSGgt1tDoq6k4NLmvBAcHMkgg941QT9iERbj6f3HmmyrtlZIUUbgcGx7XyHy0Zi5sODWyBLmWJEnUG3Aq7OxTwv+bIjZmFyubVpw5uhH2mmW1GHwkKVZftmamznC4h7ftMkjxES3uICgOH5La4XY3V4hmWcudpBFiWEgi/GLHmCoMTsomo8xq5x9SrEtZMYZSUsGTPIT7CPVamlsadQiaWx4mRciI8QfklxNZGngyU4YQrXnZR4Lx2WeCaayJwZTP0I8FtGbIJ3JztlHgmw1h3YKy8tvU2Ra7V5Nhtdic9pEHQhZnbuz8jc1MyPUfeFosMOwMwh0CUFtENdTqNBkhjjHMAkDvsvI99cV2+2qHkh7vM+yonbVrN+v5gfctNtt8kxYrG4+mQV0coOp9JazdWsPgQfdTt6ZvGtEH/AFR/0rN5ilcJ3Ka31jXUOnFL69BwPItPfrCNo9NMG4Q9jx3sEcPqk81z17EyFNOsdQo9KdnkQXAci2oBrMTlhWzOkGz3wDVpaROcNsYBEEg/2PjxiF6EXpHbcJiMC+AH0nXDrPpm+cOMwbXaD3Kww+z8L8QHDQAxDC0bjuqeY5LgWVJCJ1d9ds3DSQGxMn4R9Z2c/V3G3cqvH7BZUqudTrOpBzRoTkJyOBLWhwy9lzXHcbHiuPU8bVb8NWo3ue4exU7NuYoXGJrf/I/2lPR1rqNDoYGYltc1G1IcDlLSAHCwM5nRDhwV51RD6r87ZcBm7O8N0Ha4ZdZXH6XS/HN0xL/ENd7i/wCKM/7a4rtfrW6SJpNBc6RI7MRbfyUyGV1EbepMwjGva5hYW5aYbUnsnsy7LDQZiZ+5VuGx1WrJfWfeMwGUNNybjLcTuXPsd04xmIb1dV7MpEHsxbjIVazaRyy6HZT8Je7tDujTxUw611irhXupSwVCXAPEuiC4gkOEgTc8hFtAnUcIKLiWUWy5wDnZnZp/9wkAz/ZYun9JdQROGZYEDK97RBjdpuEHdeNSp2fSdA/8Lw/8926OLDw91rInWtjTo5m3c5jna9guLSbm8AG5N4hVWM2QxwzVa2JcB9VtMNkjll1ggTbTvVRT+k8TJwzhfQVWkaRF6Ytv11Uo+kylf9RVvN8zLd1r+KYnW/xbMquZTeymKoyO+JzGEuzOgkAME6zYqUUnjKGVCS4G7muadQN4PPX7PNVY+k2haaNUX3dWZ5XKNw/0q4Ua0a+6wFP/AHodVhUw9w4PrTAMl5j4g0S09mL6Qq/a1Oq/EU8tQsLJAytEfrCySQ6QbyjmfShhnNAFHEZiLOy0TqcoJb1o32i114/SdhSQWYfEx2iexSOYA5bEVbQ4jio11UuDr1256j6hf8LYcG5QXAukZYgwyPEpmMbUp1qgaSycz3BthmLAcwaTYGAT4lWrvpRw4zF1HEQTbs0wWjKJH7TtXBM24bkP/mrh4jqaxuYswWmw+M6Cy0z1Owm0s76bnEtcHNjXK5jqgDt8Zmlsz++e5EDa1JtSo1+fsuMnJIgdkmxk9rfCrP8AM7DxBo1nHj2BvMCMx3JW/Sjh/wDhqnmxXUvDfpodnYljyCIgmAYj6om2oufVWjsM4lv6sySQIafN25re87rArK0PpTof8LV/mYpG/Sm0ENbhH7taoHs0onSRtTswcE9uzG8FQN6SVPrPA/0fgvP6VECzwfCT5AK5Wf8ALRDZw3BTO2Y3gs3hOlL+P9LbeqOrdJQ2JePT7lMrUvBYVtlg7kqpsT0yY2xqCeQn2C8mcj/DIYLpBVpuAzGRbU25QStBg+mLnOBqNaeJiCe8gx6LLOrVJhzGm2hbpr8Izx6JlHEZbvbPLtNy8IMx5q2Octnw3FXo5hcVNVhNN0g2MiVjtv8ARRzDPxDiLmTxC2HRUUqhaWVMpi7MxLp74ut1SwbHyXMFtJue+8rnbjvx9x81v2RBPJT09jEtmLLuO2+g+HruD2DI/fHwnvHH7lWYzoDUDIpxI8E7L1cPq4ETEIc4FdM2h0QxDPiZedQJUVPoJW+PIZ1gfOVdhlcuq4cjcosi2W2ejlSme2IPMQqmnsl+9hjz9k9HuKPq14Uzu+fgtDU2WAPz4oOngpNgZ5K4nZVZfzZNLeSuqmzXAaW+aEfhCLRxTF7ADHCPE6zz5WTS1WTsAQJhQOw8Jh2CFqQsR9PBE6on9AhsxdXDsp8iUM/P4eP5hFigpv8ADnRKmL2V2VOFIwTuET46IurhCBfv9Y8NFB1Z1hDUeS07tJ3TwSZU8hePeg8HOG8iOekGfe/elbWeIAe4AAgdo2B1AvoYSsJBBBggyCCQQRcEHcUjZFgYkQbxI4HlbTkmDz3OIuSRPGbwosqlAMRNiQYkQSJAMTrc+ZTcqKRtFxIAB7Wm6d1idV7FYd1N5Y4Q4a79RIgjktJ0bxLSxtOoQMtQuaMwBIewteI1NiSqXbVRrqhLZJsHWES0RIO8WRJfaDDvhWODqOdUaDIuJsdBcz4BU/VngfIqy2CP1s8GuPsPmkTn6mtidqu3THA5hE95j0UbcZmkZ4nmfdAh3I/nmkLzub6rvryJ3MaZ7QP53r1Frvq7+8+yHZXeNPYfNOfjST2u5NE9Wk7e5eQ7sQCPv/FeV2DVjpETHWU2OP2jv4QZInVF0Mdhqv7Wm5oG9ri4e0jwWYq0nMs0ZfD7wh316g3lcsbtb1mGwhjq68OmRqDbdmJ1RwNRv/qqljIu9wG4XOvquc08dUiCfz81YUdqVBAm06T3/ep1Ozp+A2pXYP2YfeSS54J0vDpWiwG3Q4w6m9oO/wCK5/gmBzMLleC204XEjkIHmRqFaYfaLCZJIO4gnXuM+hWLG55MdIrbSp3Ic0ga6yPRQHa1E3DxbVYV20HH6+YeZ8Qb+CZi8c57g1rBbiHOMxuaHaeCmNzyNdtXEYWqMr2h4ImWie4yNL2VXgNk4V09giOMCPBVmCxrmyKeWZJLc4132Dcw8kzaNStVu6q6l3sJYNdMsHhchMXutsR0Zwj3QcpnUb4RrOh2GYBlb5rJ4bC4hrszKlKr/C4yTusWi6vam08S1gNVsDTUCTwvCWYnaX5iyb0aw0XphyoOkXQmi+9OG/n3UdXHVnHsNcd9iPeVXbU266iwdZmaTpIPuk1O0/gLC9D2tzGsA4AHiPG1zvujsP8AR9hqjSQfAEfeVnK3Skus0kcSfuVns7pVoDMDgTI3arVlYnKLP/Ltjbg98/JU20ujL84Y1k63j89y1GG6YgHL8VtDA7jKu9n42nUvvU2xvON+HNh0Dee0GwOG9DnolXmMo5fiuxPIiyDi8QnZbwch2v0QqBsxoLrJV9mlpiDPJfQeNoSDZc529sd/WZmM7J4aqy6zfTnAwLtbyO+RGncnU8C7WSO7nIPmDC3jeiz3C0gnd7p1HoRiM2og6q+jtXPauCcByTW4RxbG6Z0Gumuq6VjOg1YmGwdLp2z+iNRktcwEaz+Kel7Vy+phHDUeijdh3DcfJbnbux2sdfyVPWwrW6f3TFnNmXMPBNhaMYIO3kITE4EjQnzTFnJUNqH7R8yrjo+wnOTuAHnJ+QQL2v0J9Arzo/QPVk8XHyAA+9J8s+S/5F5EhpIzImuYtvMCLFE9qMyFRVGHggrqi8pKrbryNtnTcw6tAPl7p5YNA0eY9oQTa/5hSiuOPy90RI/CN5eR9wVAcI06FeOMGkr36SOKoVlEhTGeCYzEd5/PcpBVHBEwRg8Re5+XqrrD4k1AGMex/Fud2Yjfqee8qswWy69QFzKRcBfn4A6onZ+xs5mtmpRexcHGOR0WbG+OxrdlbLa0ZmvqC12FwI5gtfPujqeHfqzKDpGRoPmHwVU7MqBoDW3cN7iXOPiVdUqxkE62XO8b9usw6lhHyM9MG3xBotyPacD3obF4Ko6S6gx0aQ/Ke/QT4q5oYu8HwSY2ta10xvGQ/wANbnLqlMNO6Dr3wTJROG2RQc8ZqTHCby0Gx71PUw7nEmEVgsM4EHTeunw54pcf0BwQeSGmNcoJEeX91cbB2fRo9inTa0d2veTcqxxVDNDtLJmFw2V0kqb6b6+z8XsqhV/aU2u8L+YuvUdi0G/AwDuJRbmbrpzQst5FbjcK5omm0OjcTfwWco9K2l+Q0oMwQbFt7zzW3BVD0m2Gyq01WtAqt+tGoHGNVMicpfohxTDcOy8jcSgsUWyC4NcDoQZB+ax21MHi4y0nNcAAcubKeFrR6oaltfFUxl6lwDdZyuI8QTwTq53k6BQpN3BFMAXN6nSao2M0t1kEEe6mwvSpxGtipeNO8joNBgHmldRHrdYtu3SGzmkoWr0pjcZ4z+KmH5IsunWxOsph9MiRc85XNqmzqg5blucJ0mc5pzOJvoIJjXQ6+EqN9fD1D2jBPLSdRxK37hLxrA1KD27h32+aiFNxMFuu+3yWy2nsWi4BzcRTN4yXk3N53WUOL6J1KfwVGVBEgtO49+/knat5x/rPfoTb9mPAwtHsfZQbSYC3cSfEk/NAijUYC2oxwPMHVWxxvZy7tPBalc/JJAG0sIG3CqnPVjiajnW1hVmMp5VtwMfVUT6yFqVYUJrqNTiIqVF5CdYvKL1ds2D0Yw5Z22l4dcEkz7pu0fo8pHtUa9Smfsu7TR3b4VvsKqDTZB0aB4jUFW1Z9rXWbbrvOPGxgv8AL8T26wni1kT/AFKRvQBgua5j+C//ANltK25MBsd4TtU/HxZUdFKNPUufzkgeSmfgaLQCym1rhYkC5VviCd272n3VQ4PAJdB7R04bvRbjFki02NVAa43zbu5Voa6rUdYiCRJ39yN2UJBGnFWFDDtgXufyFNyrmyKnD4YteC3d6q7yS2RqLqJ1ANfcjzj3RTYa27gVLda4zEJrZrRct8juUlGqcpDtwshGYsZsrGeKVtQuIDtx0TDssGOFouocTWOreMdyHwr7k7x96le2c1rpi76GYbGB7bmCE1uJaCDKr/hpyN58uKEY+TzV6s3njSjFibgxxAU3WNNwQqzD1yHRulWDGgj8Fmx0l1IEj2BwIOhBHmlCQqNOQ4jBZM9M1HMcxxE5BMg2JymfGN68zFte1zapzg3zQ+bcDkjnuWp6fYZzHNrMiHdlwIJEj4TLbi2/ksXU2gbAsy3vEkd8tuPVa+Xmvq4WKWYEtrlu9zSHeZufRSs6uq4NY+DMBr2S7ldzRJ3ap+ztoEG4a7kC6I4EF0eiMqmm67qZE7rPj+YH7lLE9In7JAOV7b6waYbPd1dS45ofaOzs8ZKZYBYyHZTMRlaRI01Eqem+k0nskdzvD4RlSVK1Fwg5CNweJPeDmJB7iph6Un+HvAP6tp7yQfJx5blF+hVXG5Y0c3+wbJKvaz5aGCsWN0hocAe+NboeqCLDEhw/fa73IcrDFRi8GKXxda42ggANk7u1efBLs7GV2PmkHhsmxktmN9o80f8Apgbaq1rx/wAtzmDyLQ035KXDY2hftObvaCWtGhGVxaII7xw1VMgDG9IquctdAFuyNLDd5DyT6W2Gu1YPAfdf1QOL2e2eyzs7ixzST3xYeShoCkwODusBP2mgZSJgg34omVftxWHcLSN1r33WVFjnMJMFV7nOJuS4TxEkKGoSCtREeIpoUjkjITcnJMWBC38yvI3qzuC8mLrvuGoNYYaIEg2RtV+igpOaSnVKzfrELm9EOq6TwBUOHcMvgmHGsBs6e66iqY8aNF1cS2JXug6G/JDYrDiJAIPBUu1dpVZjOWgbx2fxKh2FVzYimXOc4z9Yk3gxqtzhc1yvkm4VuIxD6uWk10AwbffoFpdjbFqU3F7nyXC41Pmr5kJyXk3x8ee7VZjdlioZzR4KKnsjLoR6q3hJCy11ilbsh4IIcN3HdoiamDdMiNZKsYTHBNTrFazBuF4uTyU1Gk6TI3ostTSwppgWtQIaRq32Vc2lBV6GWIVXVF1qM8ofQN2q2ad6q8PScSLFWbWkLPJrieClTQeKcCstq7pBgeuw9SmBLsss/ibdt917eK4o/bLmktcxwIsQXaEbtBC76Csz0r6GUMbL7060We22bgHjf36rUxz58N9xyc7VYfiL546x5qRmLkWrk95v62QW0diGi91N5yuaYI19ghWYUA/FPgVrHFcCo86Ozd7Wn2kqOtUdvI8JEIZj26angDHpJRNLGZR8GXvg+7UEHXneW+oKUY6Lda8cg9x9lO/aM72xza0+yQVGnUtj+D7jZAOcXNy+ofEfMqJ20QJGYx/pM+MWRJZR3kd9x7IKsyn9V3r/ALggb+nt5AfwgnzIlNbiuDj/AFBQVGD7XkGj1Ch6scR5wgP6wEzPmGlQ1AOPoB6Id1t58wV5r+Z8vuKof4pD4ppq93jI+ajNQ8PVDEwd3+RXlE2p+6fD8F5DHaNn4shuSpcjQgTI0vzRWFxJfUyAQADmnfwj1QmDfMmIudFUs21Up4lzWhsGo1pkGYI71M1qXMaDH1WMfkJDSRImwPjoq7FYgNOpsOHZ81ZdJqQdQLnAS02WCPaJJ3eXqtcJsZ8nLLizr1M51PK49Ff9FNhPDxWqZgB8IO88eSz2wWA1ASJINp3Lo+AqEgdyc7nqHi4y3aPaE6FGCnArm9RTa5Vfhds0alQ02v7Q3G093FC9JsS5jBlPE98RY8rrPYzDtLg4WMgyLR3Kya5c+eX03cL0IDY+Ic9naMkEieIHFHrNdJSJEytUiFHTrEkiyKnBSjuChbUKkBQOLk3MlIUYRDXYe8kk95NlG6m9twZHNFlRPdKGBTtUD42uHr5oyhiQbgyoa7RGiCdTEBwsb6Ks7Yx/0sbLbnpV2ggulryDqQAWmOMSFzx9I8T4rqX0kPnAtcdRUb7OXM3Lpx+HHn8g6ki4F/VKxxIuGxzXsU/LoAhhWvoPJWswU5/d5JhH7oPp7KA1YNgE7rCnoSk8j5lQun970TnG0pjXJikyE8UgojiiWhI9qYaFDAkyxu9UQGBQ1DCmGo/D3+SVK103TmxwTB4HmkT2ryD/2Q==\" height=\"300px\"></center>\n",
        "\n",
        "\n",
        "Desde o dia 12 começou a receber alertar sobre gelo acumulado no caminho, mas mesmo assim seguiu para seu destino em alta velocidade. No dia 15, o Titanic colidiu em um iceberg e naufragou. Acredita-se que 2224 pessoas estavam abordo. O navio continha 20 barcos salva vida, a capacidade total dos barcos juntos era de 1186 pessoas. A ordem inicial era de que mulheres e crianças da primeira e segunda classe do navio teriam prioridade. O número de mortos foi 1513.\n",
        "\n",
        "[Fonte](https://www.terra.com.br/noticias/mundo/titanic/)\n",
        "\n",
        " Nesse projeto, foram obtidos dados do [Kaggle](https://www.kaggle.com/) sobre o Titanic, e a proposta é, a partir desses dados, montar um modelo para descobrir quais pessoas morreram e quais ficaram vivas"
      ]
    },
    {
      "cell_type": "markdown",
      "metadata": {
        "id": "uvuf88v9KDq2"
      },
      "source": [
        "## *Obtenção de dados*\n",
        "\n",
        "Os dados foram obitdos na plataforma de competição do [Kaggle](https://www.kaggle.com/), na competição do Titanic.\n",
        "\n",
        "Os dados são divididos em tres:\n",
        "\n",
        "* `train.csv` - são os dados de treino, para alimentar o modelo de machine learning\n",
        "\n",
        "* `test.csv` - dados que não são vistos pelo modelo de treino, que não informam se o passageiro sobreviveu ou nao\n",
        "\n",
        "* `gender_submission.csv` - modelo de como as previsões devem ser enviadas para a plataforma\n"
      ]
    },
    {
      "cell_type": "markdown",
      "metadata": {
        "id": "x3AyvH2JMllo"
      },
      "source": [
        "## *Análise exploratória*\n",
        "\n",
        "Aqui faremos a análise dos daodos. Qual é o tamanho do dataset, quais são as variáveis presentes, a porcentagem de valores vazios, se há ou não outliers.\n",
        "\n",
        "Antes disso tudo será feito um dicionário de variáveis, onde explicarei o que cada variável significa."
      ]
    },
    {
      "cell_type": "markdown",
      "metadata": {
        "id": "7QUmOXrvTUxT"
      },
      "source": [
        "### *Dicionário de variáveis*\n",
        "\n",
        "* PassengerId: Número de identificação do passageiro\n",
        "* Survived: Informa se o passageiro sobreviveu ao desastre\n",
        "  * 0 = Não\n",
        "  * 1 = Sim\n",
        "* Pclass: Classe do bilhete\n",
        "  * 1 = 1ª Classe\n",
        "  * 2 = 2ª Classe\n",
        "  * 3 = 3ª Classe\n",
        "*Name: Nome do passageiro\n",
        "*Sex: Sexo do passageiro\n",
        "*Age: Idade do passageiro\n",
        "*SibSp: Quantidade de cônjuges e irmãos a bordo\n",
        "*Parch: Quantidade de pais e filhos a bordo\n",
        "*Ticket: Número da passagem\n",
        "*Fare: Preço da Passagem\n",
        "*Cabin: Número da cabine do passageiro\n",
        "*Embarked: Porto no qual o passageiro embarcou\n",
        "  * C = Cherbourg\n",
        "  * Q = Queenstown\n",
        "  * S = Southamp"
      ]
    },
    {
      "cell_type": "markdown",
      "metadata": {
        "id": "fZyo_VkHUpLN"
      },
      "source": [
        "### *Tamanho do dataset*"
      ]
    },
    {
      "cell_type": "code",
      "metadata": {
        "id": "Ntu7PLcXUtY6",
        "outputId": "702594f8-50ce-46ba-e048-206c1dd905e1",
        "colab": {
          "base_uri": "https://localhost:8080/",
          "height": 445
        }
      },
      "source": [
        "# importar o conjunto de dados e ver as primeiras entradas\n",
        "\n",
        "import pandas as pd\n",
        "import matplotlib.pyplot as plt\n",
        "import seaborn as sns\n",
        "\n",
        "train = pd.read_csv('https://raw.githubusercontent.com/luizfernandohenriques/datascience/master/datasets/traintitanic.csv')\n",
        "test = pd.read_csv('https://raw.githubusercontent.com/luizfernandohenriques/datascience/master/datasets/testtitanic.csv')\n",
        "train.head()"
      ],
      "execution_count": null,
      "outputs": [
        {
          "output_type": "stream",
          "text": [
            "/usr/local/lib/python3.6/dist-packages/statsmodels/tools/_testing.py:19: FutureWarning: pandas.util.testing is deprecated. Use the functions in the public API at pandas.testing instead.\n",
            "  import pandas.util.testing as tm\n"
          ],
          "name": "stderr"
        },
        {
          "output_type": "execute_result",
          "data": {
            "text/html": [
              "<div>\n",
              "<style scoped>\n",
              "    .dataframe tbody tr th:only-of-type {\n",
              "        vertical-align: middle;\n",
              "    }\n",
              "\n",
              "    .dataframe tbody tr th {\n",
              "        vertical-align: top;\n",
              "    }\n",
              "\n",
              "    .dataframe thead th {\n",
              "        text-align: right;\n",
              "    }\n",
              "</style>\n",
              "<table border=\"1\" class=\"dataframe\">\n",
              "  <thead>\n",
              "    <tr style=\"text-align: right;\">\n",
              "      <th></th>\n",
              "      <th>PassengerId</th>\n",
              "      <th>Survived</th>\n",
              "      <th>Pclass</th>\n",
              "      <th>Name</th>\n",
              "      <th>Sex</th>\n",
              "      <th>Age</th>\n",
              "      <th>SibSp</th>\n",
              "      <th>Parch</th>\n",
              "      <th>Ticket</th>\n",
              "      <th>Fare</th>\n",
              "      <th>Cabin</th>\n",
              "      <th>Embarked</th>\n",
              "    </tr>\n",
              "  </thead>\n",
              "  <tbody>\n",
              "    <tr>\n",
              "      <th>0</th>\n",
              "      <td>1</td>\n",
              "      <td>0</td>\n",
              "      <td>3</td>\n",
              "      <td>Braund, Mr. Owen Harris</td>\n",
              "      <td>male</td>\n",
              "      <td>22.0</td>\n",
              "      <td>1</td>\n",
              "      <td>0</td>\n",
              "      <td>A/5 21171</td>\n",
              "      <td>7.2500</td>\n",
              "      <td>NaN</td>\n",
              "      <td>S</td>\n",
              "    </tr>\n",
              "    <tr>\n",
              "      <th>1</th>\n",
              "      <td>2</td>\n",
              "      <td>1</td>\n",
              "      <td>1</td>\n",
              "      <td>Cumings, Mrs. John Bradley (Florence Briggs Th...</td>\n",
              "      <td>female</td>\n",
              "      <td>38.0</td>\n",
              "      <td>1</td>\n",
              "      <td>0</td>\n",
              "      <td>PC 17599</td>\n",
              "      <td>71.2833</td>\n",
              "      <td>C85</td>\n",
              "      <td>C</td>\n",
              "    </tr>\n",
              "    <tr>\n",
              "      <th>2</th>\n",
              "      <td>3</td>\n",
              "      <td>1</td>\n",
              "      <td>3</td>\n",
              "      <td>Heikkinen, Miss. Laina</td>\n",
              "      <td>female</td>\n",
              "      <td>26.0</td>\n",
              "      <td>0</td>\n",
              "      <td>0</td>\n",
              "      <td>STON/O2. 3101282</td>\n",
              "      <td>7.9250</td>\n",
              "      <td>NaN</td>\n",
              "      <td>S</td>\n",
              "    </tr>\n",
              "    <tr>\n",
              "      <th>3</th>\n",
              "      <td>4</td>\n",
              "      <td>1</td>\n",
              "      <td>1</td>\n",
              "      <td>Futrelle, Mrs. Jacques Heath (Lily May Peel)</td>\n",
              "      <td>female</td>\n",
              "      <td>35.0</td>\n",
              "      <td>1</td>\n",
              "      <td>0</td>\n",
              "      <td>113803</td>\n",
              "      <td>53.1000</td>\n",
              "      <td>C123</td>\n",
              "      <td>S</td>\n",
              "    </tr>\n",
              "    <tr>\n",
              "      <th>4</th>\n",
              "      <td>5</td>\n",
              "      <td>0</td>\n",
              "      <td>3</td>\n",
              "      <td>Allen, Mr. William Henry</td>\n",
              "      <td>male</td>\n",
              "      <td>35.0</td>\n",
              "      <td>0</td>\n",
              "      <td>0</td>\n",
              "      <td>373450</td>\n",
              "      <td>8.0500</td>\n",
              "      <td>NaN</td>\n",
              "      <td>S</td>\n",
              "    </tr>\n",
              "  </tbody>\n",
              "</table>\n",
              "</div>"
            ],
            "text/plain": [
              "   PassengerId  Survived  Pclass  ...     Fare Cabin  Embarked\n",
              "0            1         0       3  ...   7.2500   NaN         S\n",
              "1            2         1       1  ...  71.2833   C85         C\n",
              "2            3         1       3  ...   7.9250   NaN         S\n",
              "3            4         1       1  ...  53.1000  C123         S\n",
              "4            5         0       3  ...   8.0500   NaN         S\n",
              "\n",
              "[5 rows x 12 columns]"
            ]
          },
          "metadata": {
            "tags": []
          },
          "execution_count": 1
        }
      ]
    },
    {
      "cell_type": "code",
      "metadata": {
        "id": "7VALepmIXcgp",
        "outputId": "9005873f-bb1f-468b-fd05-4229cd0a7594",
        "colab": {
          "base_uri": "https://localhost:8080/",
          "height": 34
        }
      },
      "source": [
        "# tamanho\n",
        "\n",
        "print(f'{train.shape[0]} entradas e {train.shape[1]} variáveis')"
      ],
      "execution_count": null,
      "outputs": [
        {
          "output_type": "stream",
          "text": [
            "891 entradas e 12 variáveis\n"
          ],
          "name": "stdout"
        }
      ]
    },
    {
      "cell_type": "markdown",
      "metadata": {
        "id": "aR1fescSXx2p"
      },
      "source": [
        "### *Variáves e tipos dos dados*\n",
        "\n",
        "Agora vamos ver quais são as colunas do dataset e os tipos de dados de cada variável"
      ]
    },
    {
      "cell_type": "code",
      "metadata": {
        "id": "MgJMB2MbX4dS",
        "outputId": "603df316-2c11-4cde-ebfe-f99de0036e94",
        "colab": {
          "base_uri": "https://localhost:8080/",
          "height": 68
        }
      },
      "source": [
        "# nomes das colunas\n",
        "\n",
        "train.columns"
      ],
      "execution_count": null,
      "outputs": [
        {
          "output_type": "execute_result",
          "data": {
            "text/plain": [
              "Index(['PassengerId', 'Survived', 'Pclass', 'Name', 'Sex', 'Age', 'SibSp',\n",
              "       'Parch', 'Ticket', 'Fare', 'Cabin', 'Embarked'],\n",
              "      dtype='object')"
            ]
          },
          "metadata": {
            "tags": []
          },
          "execution_count": 3
        }
      ]
    },
    {
      "cell_type": "code",
      "metadata": {
        "id": "avGZ6WNQYOkn",
        "outputId": "37b858ca-d82a-4df3-8afc-548904ac5c17",
        "colab": {
          "base_uri": "https://localhost:8080/",
          "height": 340
        }
      },
      "source": [
        "# tipos de dados\n",
        "\n",
        "train.info()"
      ],
      "execution_count": null,
      "outputs": [
        {
          "output_type": "stream",
          "text": [
            "<class 'pandas.core.frame.DataFrame'>\n",
            "RangeIndex: 891 entries, 0 to 890\n",
            "Data columns (total 12 columns):\n",
            " #   Column       Non-Null Count  Dtype  \n",
            "---  ------       --------------  -----  \n",
            " 0   PassengerId  891 non-null    int64  \n",
            " 1   Survived     891 non-null    int64  \n",
            " 2   Pclass       891 non-null    int64  \n",
            " 3   Name         891 non-null    object \n",
            " 4   Sex          891 non-null    object \n",
            " 5   Age          714 non-null    float64\n",
            " 6   SibSp        891 non-null    int64  \n",
            " 7   Parch        891 non-null    int64  \n",
            " 8   Ticket       891 non-null    object \n",
            " 9   Fare         891 non-null    float64\n",
            " 10  Cabin        204 non-null    object \n",
            " 11  Embarked     889 non-null    object \n",
            "dtypes: float64(2), int64(5), object(5)\n",
            "memory usage: 83.7+ KB\n"
          ],
          "name": "stdout"
        }
      ]
    },
    {
      "cell_type": "markdown",
      "metadata": {
        "id": "kZ4thYxPYZrE"
      },
      "source": [
        "### *Porcentagem de dados faltantes*\n",
        "\n",
        "Podemos ver acima que a maioria das colunas tem 891 valores preenchidos, mas algumas, como 'Cabin' possuem só 204. Vamos ver essa porcentagem de dados que estão faltando"
      ]
    },
    {
      "cell_type": "code",
      "metadata": {
        "id": "elGNQc4NYwGe",
        "outputId": "e2a50312-fad6-4d45-e1ca-813a272d4858",
        "colab": {
          "base_uri": "https://localhost:8080/",
          "height": 238
        }
      },
      "source": [
        "((train.isnull().sum().sort_values(ascending=False)) / (train.shape[0])*100)"
      ],
      "execution_count": null,
      "outputs": [
        {
          "output_type": "execute_result",
          "data": {
            "text/plain": [
              "Cabin          77.104377\n",
              "Age            19.865320\n",
              "Embarked        0.224467\n",
              "Fare            0.000000\n",
              "Ticket          0.000000\n",
              "Parch           0.000000\n",
              "SibSp           0.000000\n",
              "Sex             0.000000\n",
              "Name            0.000000\n",
              "Pclass          0.000000\n",
              "Survived        0.000000\n",
              "PassengerId     0.000000\n",
              "dtype: float64"
            ]
          },
          "metadata": {
            "tags": []
          },
          "execution_count": 5
        }
      ]
    },
    {
      "cell_type": "markdown",
      "metadata": {
        "id": "uuVUKA3EZWyE"
      },
      "source": [
        "A coluna 'Cabin' tem 77% dos seus dados não preenchidos, enquanto 'Age' tem quase 20% e 'Embarked' menos de 1%"
      ]
    },
    {
      "cell_type": "markdown",
      "metadata": {
        "id": "0Jc8Vnv0ZuJW"
      },
      "source": [
        "### *Distruibuição estatística dos dados e outliers*\n",
        "\n",
        "Aqui veremos as estatísticas dos dados e se há algum valor fora da curva, que altere muito a análise dos dados ou não.m"
      ]
    },
    {
      "cell_type": "code",
      "metadata": {
        "id": "YCKckjftZ8pm",
        "outputId": "dd948e7b-9fde-4847-be73-8d8c10b11f58",
        "colab": {
          "base_uri": "https://localhost:8080/",
          "height": 297
        }
      },
      "source": [
        "train.describe()"
      ],
      "execution_count": null,
      "outputs": [
        {
          "output_type": "execute_result",
          "data": {
            "text/html": [
              "<div>\n",
              "<style scoped>\n",
              "    .dataframe tbody tr th:only-of-type {\n",
              "        vertical-align: middle;\n",
              "    }\n",
              "\n",
              "    .dataframe tbody tr th {\n",
              "        vertical-align: top;\n",
              "    }\n",
              "\n",
              "    .dataframe thead th {\n",
              "        text-align: right;\n",
              "    }\n",
              "</style>\n",
              "<table border=\"1\" class=\"dataframe\">\n",
              "  <thead>\n",
              "    <tr style=\"text-align: right;\">\n",
              "      <th></th>\n",
              "      <th>PassengerId</th>\n",
              "      <th>Survived</th>\n",
              "      <th>Pclass</th>\n",
              "      <th>Age</th>\n",
              "      <th>SibSp</th>\n",
              "      <th>Parch</th>\n",
              "      <th>Fare</th>\n",
              "    </tr>\n",
              "  </thead>\n",
              "  <tbody>\n",
              "    <tr>\n",
              "      <th>count</th>\n",
              "      <td>891.000000</td>\n",
              "      <td>891.000000</td>\n",
              "      <td>891.000000</td>\n",
              "      <td>714.000000</td>\n",
              "      <td>891.000000</td>\n",
              "      <td>891.000000</td>\n",
              "      <td>891.000000</td>\n",
              "    </tr>\n",
              "    <tr>\n",
              "      <th>mean</th>\n",
              "      <td>446.000000</td>\n",
              "      <td>0.383838</td>\n",
              "      <td>2.308642</td>\n",
              "      <td>29.699118</td>\n",
              "      <td>0.523008</td>\n",
              "      <td>0.381594</td>\n",
              "      <td>32.204208</td>\n",
              "    </tr>\n",
              "    <tr>\n",
              "      <th>std</th>\n",
              "      <td>257.353842</td>\n",
              "      <td>0.486592</td>\n",
              "      <td>0.836071</td>\n",
              "      <td>14.526497</td>\n",
              "      <td>1.102743</td>\n",
              "      <td>0.806057</td>\n",
              "      <td>49.693429</td>\n",
              "    </tr>\n",
              "    <tr>\n",
              "      <th>min</th>\n",
              "      <td>1.000000</td>\n",
              "      <td>0.000000</td>\n",
              "      <td>1.000000</td>\n",
              "      <td>0.420000</td>\n",
              "      <td>0.000000</td>\n",
              "      <td>0.000000</td>\n",
              "      <td>0.000000</td>\n",
              "    </tr>\n",
              "    <tr>\n",
              "      <th>25%</th>\n",
              "      <td>223.500000</td>\n",
              "      <td>0.000000</td>\n",
              "      <td>2.000000</td>\n",
              "      <td>20.125000</td>\n",
              "      <td>0.000000</td>\n",
              "      <td>0.000000</td>\n",
              "      <td>7.910400</td>\n",
              "    </tr>\n",
              "    <tr>\n",
              "      <th>50%</th>\n",
              "      <td>446.000000</td>\n",
              "      <td>0.000000</td>\n",
              "      <td>3.000000</td>\n",
              "      <td>28.000000</td>\n",
              "      <td>0.000000</td>\n",
              "      <td>0.000000</td>\n",
              "      <td>14.454200</td>\n",
              "    </tr>\n",
              "    <tr>\n",
              "      <th>75%</th>\n",
              "      <td>668.500000</td>\n",
              "      <td>1.000000</td>\n",
              "      <td>3.000000</td>\n",
              "      <td>38.000000</td>\n",
              "      <td>1.000000</td>\n",
              "      <td>0.000000</td>\n",
              "      <td>31.000000</td>\n",
              "    </tr>\n",
              "    <tr>\n",
              "      <th>max</th>\n",
              "      <td>891.000000</td>\n",
              "      <td>1.000000</td>\n",
              "      <td>3.000000</td>\n",
              "      <td>80.000000</td>\n",
              "      <td>8.000000</td>\n",
              "      <td>6.000000</td>\n",
              "      <td>512.329200</td>\n",
              "    </tr>\n",
              "  </tbody>\n",
              "</table>\n",
              "</div>"
            ],
            "text/plain": [
              "       PassengerId    Survived      Pclass  ...       SibSp       Parch        Fare\n",
              "count   891.000000  891.000000  891.000000  ...  891.000000  891.000000  891.000000\n",
              "mean    446.000000    0.383838    2.308642  ...    0.523008    0.381594   32.204208\n",
              "std     257.353842    0.486592    0.836071  ...    1.102743    0.806057   49.693429\n",
              "min       1.000000    0.000000    1.000000  ...    0.000000    0.000000    0.000000\n",
              "25%     223.500000    0.000000    2.000000  ...    0.000000    0.000000    7.910400\n",
              "50%     446.000000    0.000000    3.000000  ...    0.000000    0.000000   14.454200\n",
              "75%     668.500000    1.000000    3.000000  ...    1.000000    0.000000   31.000000\n",
              "max     891.000000    1.000000    3.000000  ...    8.000000    6.000000  512.329200\n",
              "\n",
              "[8 rows x 7 columns]"
            ]
          },
          "metadata": {
            "tags": []
          },
          "execution_count": 6
        }
      ]
    },
    {
      "cell_type": "code",
      "metadata": {
        "id": "dc57Cq2xaSsA",
        "outputId": "2f81dd0f-4fe3-4f61-9ab1-7efdffe684da",
        "colab": {
          "base_uri": "https://localhost:8080/",
          "height": 499
        }
      },
      "source": [
        "train.hist(figsize=(10,8));"
      ],
      "execution_count": null,
      "outputs": [
        {
          "output_type": "display_data",
          "data": {
            "image/png": "[encoded data removed]",
            "text/plain": [
              "<Figure size 720x576 with 9 Axes>"
            ]
          },
          "metadata": {
            "tags": [],
            "needs_background": "light"
          }
        }
      ]
    },
    {
      "cell_type": "markdown",
      "metadata": {
        "id": "iuYGR3_KatOE"
      },
      "source": [
        "### *Que grupo de pessoas tinha mais chance de sobreviver?*\n",
        "\n",
        "Vamos fazer algumas dessas análises através de gráficos. Qual sexo teve mais sobreviventes? Pessoas de que classe do navio tinham mais chance de sobreviver?"
      ]
    },
    {
      "cell_type": "code",
      "metadata": {
        "id": "Ql5dRUfgbRvm",
        "outputId": "4a3da9eb-4d98-4a47-ba0d-edf01aecaa99",
        "colab": {
          "base_uri": "https://localhost:8080/",
          "height": 441
        }
      },
      "source": [
        "fig, (ax1, ax2, ax3) = plt.subplots(1, 3, figsize = (10,6));\n",
        "sns.barplot(x='Sex', y='Survived', data=train, ax=ax1);\n",
        "sns.barplot(x='Pclass', y='Survived', data=train, ax=ax2);\n",
        "sns.barplot(x='Embarked', y='Survived', data=train, ax=ax3);\n",
        "plt.tight_layout()"
      ],
      "execution_count": null,
      "outputs": [
        {
          "output_type": "display_data",
          "data": {
            "image/png": "[encoded data removed]",
            "text/plain": [
              "<Figure size 720x432 with 3 Axes>"
            ]
          },
          "metadata": {
            "tags": [],
            "needs_background": "light"
          }
        }
      ]
    },
    {
      "cell_type": "markdown",
      "metadata": {
        "id": "AKQhWT7sc16r"
      },
      "source": [
        "Mulheres tinham mais chance de sobreviver em relação aos homens, quem estava na primeira classe também tinha mais chance em relação aos outros."
      ]
    },
    {
      "cell_type": "code",
      "metadata": {
        "id": "g7zDmea8qxkd",
        "outputId": "4d1b8d8c-f4b8-42f6-e973-dcfff5d502c2",
        "colab": {
          "base_uri": "https://localhost:8080/",
          "height": 337
        }
      },
      "source": [
        "sns.heatmap(train.corr(), cmap='coolwarm', fmt='.2f', linewidths=.1, vmax=1, square=True, linecolor='white', annot=True)"
      ],
      "execution_count": null,
      "outputs": [
        {
          "output_type": "execute_result",
          "data": {
            "text/plain": [
              "<matplotlib.axes._subplots.AxesSubplot at 0x7f7ae72eb240>"
            ]
          },
          "metadata": {
            "tags": []
          },
          "execution_count": 9
        },
        {
          "output_type": "display_data",
          "data": {
            "image/png": "[encoded data removed]",
            "text/plain": [
              "<Figure size 432x288 with 2 Axes>"
            ]
          },
          "metadata": {
            "tags": [],
            "needs_background": "light"
          }
        }
      ]
    },
    {
      "cell_type": "markdown",
      "metadata": {
        "id": "y1JSfyuBJGZj"
      },
      "source": [
        "## *Preparação dos dados*\n",
        "\n",
        "Nessa seção serão feitos os ajustes nos dados para que seja possível alimentar o modelo de machine learning.\n",
        "\n",
        "Como vamos mexer com os dados, primeiramente vamos juntar os dados de treino e teste e um só dataframe e mais adiante iremos separá-los de novo.\n"
      ]
    },
    {
      "cell_type": "code",
      "metadata": {
        "id": "9nwTYMg2Jo4r",
        "outputId": "c96b99ca-7728-4c56-9ef2-abd0dfe71f74",
        "colab": {
          "base_uri": "https://localhost:8080/",
          "height": 34
        }
      },
      "source": [
        "# salvar os índices dos datasets para depois separá-los de novo\n",
        "\n",
        "train_idx = train.shape[0]\n",
        "test_idx = test.shape[0]\n",
        "\n",
        "# salvar PassengerId para submeter ao Kaggle\n",
        "\n",
        "passenger_id = test['PassengerId']\n",
        "\n",
        "# extrair coluna alvo 'Survived' na variável y e depois tirá-la dos dados de treino\n",
        "\n",
        "target = train.Survived\n",
        "train.drop(['Survived'], axis=1, inplace=True)\n",
        "\n",
        "# juntar treino e teste em um dataset\n",
        "\n",
        "df_merged = pd.concat(objs=[train, test], axis=0).reset_index(drop=True)\n",
        "\n",
        "print(f'{df_merged.shape}')"
      ],
      "execution_count": null,
      "outputs": [
        {
          "output_type": "stream",
          "text": [
            "(1309, 11)\n"
          ],
          "name": "stdout"
        }
      ]
    },
    {
      "cell_type": "markdown",
      "metadata": {
        "id": "TAsXCmHsLZe9"
      },
      "source": [
        "### *Selecionando colunas*\n",
        "\n",
        "Algumas colunas, a primeira impressão, não possuem valor para o modelo, então serão retiradas"
      ]
    },
    {
      "cell_type": "code",
      "metadata": {
        "id": "opjkDW_SLrfA"
      },
      "source": [
        "df_merged.drop(['PassengerId', 'Name', 'Ticket', 'Cabin'], axis=1, inplace=True)"
      ],
      "execution_count": null,
      "outputs": []
    },
    {
      "cell_type": "markdown",
      "metadata": {
        "id": "Hiso1A1sMQBl"
      },
      "source": [
        "### *Valores faltantes*\n",
        "\n",
        "Como visto anteriormente, algumas colunas possuem valores faltantes. Existem alguns modos de lidar com esse problema, como por exemplo excluir a coluna ou a linha, ou preencher com a média ou mediana. Aqui serão analisados esses valores e como serão preenchidos"
      ]
    },
    {
      "cell_type": "code",
      "metadata": {
        "id": "gSzdIQuNMpIQ",
        "outputId": "e7647d93-f9d1-468f-c196-6ccdb4c4be41",
        "colab": {
          "base_uri": "https://localhost:8080/",
          "height": 153
        }
      },
      "source": [
        "df_merged.isnull().sum()"
      ],
      "execution_count": null,
      "outputs": [
        {
          "output_type": "execute_result",
          "data": {
            "text/plain": [
              "Pclass        0\n",
              "Sex           0\n",
              "Age         263\n",
              "SibSp         0\n",
              "Parch         0\n",
              "Fare          1\n",
              "Embarked      2\n",
              "dtype: int64"
            ]
          },
          "metadata": {
            "tags": []
          },
          "execution_count": 12
        }
      ]
    },
    {
      "cell_type": "code",
      "metadata": {
        "id": "e95ZcZ1_M1NT"
      },
      "source": [
        "# pegando a mediana da coluna 'Age'\n",
        "\n",
        "age_median = df_merged['Age'].median()\n",
        "\n",
        "# preenchendo o valor da mediana nas linhas com valor faltante\n",
        "\n",
        "df_merged['Age'].fillna(age_median, inplace=True)"
      ],
      "execution_count": null,
      "outputs": []
    },
    {
      "cell_type": "code",
      "metadata": {
        "id": "15_WjJzTNic6"
      },
      "source": [
        "# pegando a mediana da coluna 'Fare'\n",
        "\n",
        "fare_median = df_merged['Fare'].median()\n",
        "\n",
        "# preenchendo o valor vazio com a mediana\n",
        "\n",
        "df_merged['Fare'].fillna(fare_median, inplace=True)"
      ],
      "execution_count": null,
      "outputs": []
    },
    {
      "cell_type": "code",
      "metadata": {
        "id": "_3Lf6OArN7lq"
      },
      "source": [
        "# pegando o valor que mais se repete na variável 'Embarked'\n",
        "\n",
        "embarked_top = df_merged['Embarked'].value_counts()[0]\n",
        "\n",
        "# preenchendo os valores vazios com o valor que mais se repete\n",
        "\n",
        "df_merged['Embarked'].fillna(embarked_top, inplace=True)"
      ],
      "execution_count": null,
      "outputs": []
    },
    {
      "cell_type": "markdown",
      "metadata": {
        "id": "7ZTvFg2nOfGy"
      },
      "source": [
        "Para as variáveis 'Age' e 'Fare' o critério usado para o preenchimento de valores vazios foi a mediana de cada coluna. Já para a variável 'Embarked' o critério foi preencher com o valor mais frequente da coluna.\n",
        "\n",
        "Vamos conferir para ver se todos os valores foram preenchidos."
      ]
    },
    {
      "cell_type": "code",
      "metadata": {
        "id": "92JVwvNbOyNz",
        "outputId": "e341b057-514b-436e-ee91-e0db78c01f74",
        "colab": {
          "base_uri": "https://localhost:8080/",
          "height": 153
        }
      },
      "source": [
        "df_merged.isnull().sum()"
      ],
      "execution_count": null,
      "outputs": [
        {
          "output_type": "execute_result",
          "data": {
            "text/plain": [
              "Pclass      0\n",
              "Sex         0\n",
              "Age         0\n",
              "SibSp       0\n",
              "Parch       0\n",
              "Fare        0\n",
              "Embarked    0\n",
              "dtype: int64"
            ]
          },
          "metadata": {
            "tags": []
          },
          "execution_count": 16
        }
      ]
    },
    {
      "cell_type": "markdown",
      "metadata": {
        "id": "1XYRRR51QMAb"
      },
      "source": [
        "### *Preparando variáveis para o modelo*\n",
        "\n",
        "Para preencher o modelo é necessário que as variáveis sejam transformadas em números. 'Sex' e 'Embarked' não são números. Para a variável 'Sex' o sexo masculino vai valer 0 e o feminino 1. Já para 'Embarked' serão usadas variáveis dummies, onde, onde cada porto é desmembrado em uma coluna e a coluna em que está o porto onde o passageiro embarcou recebe o valor 1, as outras recebem o valor 0."
      ]
    },
    {
      "cell_type": "code",
      "metadata": {
        "id": "zmMIqh19StZ3",
        "outputId": "b8c57bf7-85f4-4160-9d89-418caa108bfb",
        "colab": {
          "base_uri": "https://localhost:8080/",
          "height": 419
        }
      },
      "source": [
        "# colocando a variável 'Sex' em números\n",
        "\n",
        "df_merged['Sex'] = df_merged['Sex'].map({'male':0, 'female':1})\n",
        "\n",
        "# variáveis dummies para 'Embarked'\n",
        "\n",
        "embarked_dummies = pd.get_dummies(df_merged['Embarked'], prefix='Embarked')\n",
        "df_merged = pd.concat([df_merged, embarked_dummies], axis=1)\n",
        "df_merged.drop('Embarked', axis=1, inplace=True)\n",
        "\n",
        "df_merged"
      ],
      "execution_count": null,
      "outputs": [
        {
          "output_type": "execute_result",
          "data": {
            "text/html": [
              "<div>\n",
              "<style scoped>\n",
              "    .dataframe tbody tr th:only-of-type {\n",
              "        vertical-align: middle;\n",
              "    }\n",
              "\n",
              "    .dataframe tbody tr th {\n",
              "        vertical-align: top;\n",
              "    }\n",
              "\n",
              "    .dataframe thead th {\n",
              "        text-align: right;\n",
              "    }\n",
              "</style>\n",
              "<table border=\"1\" class=\"dataframe\">\n",
              "  <thead>\n",
              "    <tr style=\"text-align: right;\">\n",
              "      <th></th>\n",
              "      <th>Pclass</th>\n",
              "      <th>Sex</th>\n",
              "      <th>Age</th>\n",
              "      <th>SibSp</th>\n",
              "      <th>Parch</th>\n",
              "      <th>Fare</th>\n",
              "      <th>Embarked_914</th>\n",
              "      <th>Embarked_C</th>\n",
              "      <th>Embarked_Q</th>\n",
              "      <th>Embarked_S</th>\n",
              "    </tr>\n",
              "  </thead>\n",
              "  <tbody>\n",
              "    <tr>\n",
              "      <th>0</th>\n",
              "      <td>3</td>\n",
              "      <td>0</td>\n",
              "      <td>22.0</td>\n",
              "      <td>1</td>\n",
              "      <td>0</td>\n",
              "      <td>7.2500</td>\n",
              "      <td>0</td>\n",
              "      <td>0</td>\n",
              "      <td>0</td>\n",
              "      <td>1</td>\n",
              "    </tr>\n",
              "    <tr>\n",
              "      <th>1</th>\n",
              "      <td>1</td>\n",
              "      <td>1</td>\n",
              "      <td>38.0</td>\n",
              "      <td>1</td>\n",
              "      <td>0</td>\n",
              "      <td>71.2833</td>\n",
              "      <td>0</td>\n",
              "      <td>1</td>\n",
              "      <td>0</td>\n",
              "      <td>0</td>\n",
              "    </tr>\n",
              "    <tr>\n",
              "      <th>2</th>\n",
              "      <td>3</td>\n",
              "      <td>1</td>\n",
              "      <td>26.0</td>\n",
              "      <td>0</td>\n",
              "      <td>0</td>\n",
              "      <td>7.9250</td>\n",
              "      <td>0</td>\n",
              "      <td>0</td>\n",
              "      <td>0</td>\n",
              "      <td>1</td>\n",
              "    </tr>\n",
              "    <tr>\n",
              "      <th>3</th>\n",
              "      <td>1</td>\n",
              "      <td>1</td>\n",
              "      <td>35.0</td>\n",
              "      <td>1</td>\n",
              "      <td>0</td>\n",
              "      <td>53.1000</td>\n",
              "      <td>0</td>\n",
              "      <td>0</td>\n",
              "      <td>0</td>\n",
              "      <td>1</td>\n",
              "    </tr>\n",
              "    <tr>\n",
              "      <th>4</th>\n",
              "      <td>3</td>\n",
              "      <td>0</td>\n",
              "      <td>35.0</td>\n",
              "      <td>0</td>\n",
              "      <td>0</td>\n",
              "      <td>8.0500</td>\n",
              "      <td>0</td>\n",
              "      <td>0</td>\n",
              "      <td>0</td>\n",
              "      <td>1</td>\n",
              "    </tr>\n",
              "    <tr>\n",
              "      <th>...</th>\n",
              "      <td>...</td>\n",
              "      <td>...</td>\n",
              "      <td>...</td>\n",
              "      <td>...</td>\n",
              "      <td>...</td>\n",
              "      <td>...</td>\n",
              "      <td>...</td>\n",
              "      <td>...</td>\n",
              "      <td>...</td>\n",
              "      <td>...</td>\n",
              "    </tr>\n",
              "    <tr>\n",
              "      <th>1304</th>\n",
              "      <td>3</td>\n",
              "      <td>0</td>\n",
              "      <td>28.0</td>\n",
              "      <td>0</td>\n",
              "      <td>0</td>\n",
              "      <td>8.0500</td>\n",
              "      <td>0</td>\n",
              "      <td>0</td>\n",
              "      <td>0</td>\n",
              "      <td>1</td>\n",
              "    </tr>\n",
              "    <tr>\n",
              "      <th>1305</th>\n",
              "      <td>1</td>\n",
              "      <td>1</td>\n",
              "      <td>39.0</td>\n",
              "      <td>0</td>\n",
              "      <td>0</td>\n",
              "      <td>108.9000</td>\n",
              "      <td>0</td>\n",
              "      <td>1</td>\n",
              "      <td>0</td>\n",
              "      <td>0</td>\n",
              "    </tr>\n",
              "    <tr>\n",
              "      <th>1306</th>\n",
              "      <td>3</td>\n",
              "      <td>0</td>\n",
              "      <td>38.5</td>\n",
              "      <td>0</td>\n",
              "      <td>0</td>\n",
              "      <td>7.2500</td>\n",
              "      <td>0</td>\n",
              "      <td>0</td>\n",
              "      <td>0</td>\n",
              "      <td>1</td>\n",
              "    </tr>\n",
              "    <tr>\n",
              "      <th>1307</th>\n",
              "      <td>3</td>\n",
              "      <td>0</td>\n",
              "      <td>28.0</td>\n",
              "      <td>0</td>\n",
              "      <td>0</td>\n",
              "      <td>8.0500</td>\n",
              "      <td>0</td>\n",
              "      <td>0</td>\n",
              "      <td>0</td>\n",
              "      <td>1</td>\n",
              "    </tr>\n",
              "    <tr>\n",
              "      <th>1308</th>\n",
              "      <td>3</td>\n",
              "      <td>0</td>\n",
              "      <td>28.0</td>\n",
              "      <td>1</td>\n",
              "      <td>1</td>\n",
              "      <td>22.3583</td>\n",
              "      <td>0</td>\n",
              "      <td>1</td>\n",
              "      <td>0</td>\n",
              "      <td>0</td>\n",
              "    </tr>\n",
              "  </tbody>\n",
              "</table>\n",
              "<p>1309 rows × 10 columns</p>\n",
              "</div>"
            ],
            "text/plain": [
              "      Pclass  Sex   Age  ...  Embarked_C  Embarked_Q  Embarked_S\n",
              "0          3    0  22.0  ...           0           0           1\n",
              "1          1    1  38.0  ...           1           0           0\n",
              "2          3    1  26.0  ...           0           0           1\n",
              "3          1    1  35.0  ...           0           0           1\n",
              "4          3    0  35.0  ...           0           0           1\n",
              "...      ...  ...   ...  ...         ...         ...         ...\n",
              "1304       3    0  28.0  ...           0           0           1\n",
              "1305       1    1  39.0  ...           1           0           0\n",
              "1306       3    0  38.5  ...           0           0           1\n",
              "1307       3    0  28.0  ...           0           0           1\n",
              "1308       3    0  28.0  ...           1           0           0\n",
              "\n",
              "[1309 rows x 10 columns]"
            ]
          },
          "metadata": {
            "tags": []
          },
          "execution_count": 17
        }
      ]
    },
    {
      "cell_type": "markdown",
      "metadata": {
        "id": "RwEugXHHUvwY"
      },
      "source": [
        "### *Separação de modelos de treino e teste*\n",
        "\n",
        "Agora que os dados ja foram arrumados e preparados, podemos separar de novo entre modelo de teste e de treino."
      ]
    },
    {
      "cell_type": "code",
      "metadata": {
        "id": "ShNi_mhOU65N"
      },
      "source": [
        "train = df_merged.iloc[:train_idx]\n",
        "test = df_merged.iloc[train_idx:]"
      ],
      "execution_count": null,
      "outputs": []
    },
    {
      "cell_type": "markdown",
      "metadata": {
        "id": "10SP8bD1VS4i"
      },
      "source": [
        "## *Construção do modelo*\n",
        "\n",
        "Agora chegou a hora tão esperada. Depois da análise e preparação dos dados, agora é hora de implementar o modelo."
      ]
    },
    {
      "cell_type": "markdown",
      "metadata": {
        "id": "Qe3fmUX_Vgew"
      },
      "source": [
        "### *Modelo de regressão logística*"
      ]
    },
    {
      "cell_type": "code",
      "metadata": {
        "id": "CmfXZ3tsZ2T-"
      },
      "source": [
        "from sklearn.linear_model import LogisticRegression"
      ],
      "execution_count": null,
      "outputs": []
    },
    {
      "cell_type": "code",
      "metadata": {
        "id": "30xHbXy8Z5rC",
        "outputId": "d58c2b6e-2202-4f60-a8ab-677c955d4cc5",
        "colab": {
          "base_uri": "https://localhost:8080/",
          "height": 34
        }
      },
      "source": [
        "model_lr = LogisticRegression(solver='liblinear')\n",
        "model_lr.fit(train, target)\n",
        "\n",
        "acc_logReg = round(model_lr.score(train, target)*100, 2)\n",
        "print(f'Acurácia de {acc_logReg} no modelo de regressão logística')"
      ],
      "execution_count": null,
      "outputs": [
        {
          "output_type": "stream",
          "text": [
            "Acurácia de 80.13 no modelo de regressão logística\n"
          ],
          "name": "stdout"
        }
      ]
    },
    {
      "cell_type": "markdown",
      "metadata": {
        "id": "l4RVr784pTW0"
      },
      "source": [
        "### *Arvore de decisão*"
      ]
    },
    {
      "cell_type": "code",
      "metadata": {
        "id": "LLT83UHcpaM9",
        "outputId": "c08feb91-19d5-4a14-f219-8f626544ca0f",
        "colab": {
          "base_uri": "https://localhost:8080/",
          "height": 34
        }
      },
      "source": [
        "from sklearn.tree import DecisionTreeClassifier\n",
        "\n",
        "tree = DecisionTreeClassifier(max_depth=3)\n",
        "tree.fit(train, target)\n",
        "\n",
        "acc_tree = round(tree.score(train,target)*100, 2)\n",
        "print(f'Acurácia de {acc_tree}')"
      ],
      "execution_count": null,
      "outputs": [
        {
          "output_type": "stream",
          "text": [
            "Acurácia de 82.72\n"
          ],
          "name": "stdout"
        }
      ]
    }
  ]
}